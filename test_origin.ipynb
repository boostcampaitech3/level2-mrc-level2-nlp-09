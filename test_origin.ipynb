{
 "cells": [
  {
   "cell_type": "code",
   "execution_count": 1,
   "metadata": {},
   "outputs": [],
   "source": [
    "from email.policy import default\n",
    "import json\n",
    "import os\n",
    "import pickle\n",
    "import time\n",
    "from contextlib import contextmanager\n",
    "from typing import List, NoReturn, Optional, Tuple, Union\n",
    "from rank_bm25 import BM25Okapi\n",
    "import faiss\n",
    "import numpy as np\n",
    "import pandas as pd\n",
    "from datasets import Dataset, concatenate_datasets, load_from_disk\n",
    "from sklearn.feature_extraction.text import TfidfVectorizer\n",
    "from tqdm.auto import tqdm\n",
    "from retrieval import *"
   ]
  },
  {
   "cell_type": "code",
   "execution_count": 6,
   "metadata": {},
   "outputs": [
    {
     "name": "stderr",
     "output_type": "stream",
     "text": [
      "Loading cached processed dataset at ../data/train_dataset/train/cache-9c5e152ac62642fb.arrow\n",
      "Loading cached processed dataset at ../data/train_dataset/validation/cache-04cef27ebd362e38.arrow\n"
     ]
    },
    {
     "name": "stdout",
     "output_type": "stream",
     "text": [
      "**************************************** query dataset ****************************************\n",
      "Dataset({\n",
      "    features: ['title', 'context', 'question', 'id', 'answers', 'document_id', '__index_level_0__'],\n",
      "    num_rows: 4192\n",
      "})\n",
      "3952 240\n",
      "Lengths of unique contexts : 56737\n",
      "Embedding pickle load.\n",
      "[query exhaustive search] done in 49.548 s\n"
     ]
    },
    {
     "data": {
      "application/vnd.jupyter.widget-view+json": {
       "model_id": "594114d55c51401580152801a94f571f",
       "version_major": 2,
       "version_minor": 0
      },
      "text/plain": [
       "Sparse retrieval:   0%|          | 0/4192 [00:00<?, ?it/s]"
      ]
     },
     "metadata": {},
     "output_type": "display_data"
    },
    {
     "name": "stdout",
     "output_type": "stream",
     "text": [
      "correct retrieval result by exhaustive search 3338,4192 0.7962786259541985\n",
      "[bulk query by exhaustive search] done in 50.794 s\n",
      "[transform] done in 0.003 s\n",
      "[query ex search] done in 0.883 s\n",
      "[Search query]\n",
      " 대통령을 포함한 미국의 행정부 견제권을 갖는 국가 기관은? \n",
      "\n",
      "Top-1 passage with score 0.198994\n",
      "국회에 관해 규정하는 헌법 제4장의 첫 조문이다.\n",
      "\n",
      "본조에서 말하는 \"국권\"이란 국가가 갖는 지배권을 포괄적으로 나타내는 국가 권력, 곧 국가의 통치권을 의미한다. 국권은 일반적으로 입법권·행정권·사법권의 3권으로 분류되지만, 그 중에서도 주권자인 국민의 의사를 직접 반영하는 기관으로서 국회를 \"최고 기관\"으로 규정한 것이다. 다만, 최고 기관이라 해서 타 기관의 감시와 통제를 받지 않는 것은 아니며 권력 분립 원칙에 따라 국회에 대한 행정권, 사법권의 견제를 받는다.\n",
      "\n",
      "또한 일본 전체 국민을 대표하는 기관을 국회로 규정함으로써, 국회는 일본의 유일한 입법 기관의 지위를 가지고 있다. 일본 제국 헌법 하에서 입법권은 천황의 권한에 속했으며, 제국의회는 천황의 입법 행위를 보좌하는 기관에 불과했다.\n",
      "\n",
      "여기서 \"유일한 입법 기관\"의 의미로는 다음과 같은 해석이 있다.\n",
      "* 국회 중심 입법 원칙 : 국회가 국가의 입법권을 독점한다는 원칙\n",
      "* 국회 단독 입법 원칙 : 국회의 입법은 다른 기관의 간섭 없이 이루어진다는 원칙\n",
      "\n",
      "또한 국회의 입법에 벗어나지 않는 범위 내에서 행정 기관은 정령 등의 규칙 제정권을 가지며(헌법 제73조 제6호), 최고재판소는 소송에 관한 절차, 변호사 및 재판소에 관한 내부 규율 및 사법 사무 처리에 관한 사항에 대한 규칙 제정권(헌법 제77조 제1항)을 가진다.\n",
      "[single query by exhaustive search] done in 0.896 s\n"
     ]
    }
   ],
   "source": [
    "# Test sparse\n",
    "# org_dataset = load_from_disk(args.dataset_name)\n",
    "dataset_name = \"../data/train_dataset\"\n",
    "org_dataset = load_from_disk(dataset_name)\n",
    "full_ds = concatenate_datasets(\n",
    "    [\n",
    "        org_dataset[\"train\"].flatten_indices(),\n",
    "        org_dataset[\"validation\"].flatten_indices(),\n",
    "    ]\n",
    ")  # train dev 를 합친 4192 개 질문에 대해 모두 테스트\n",
    "print(\"*\" * 40, \"query dataset\", \"*\" * 40)\n",
    "print(full_ds)\n",
    "print(len(org_dataset[\"train\"]),len(org_dataset[\"validation\"]))\n",
    "from transformers import AutoTokenizer\n",
    "\n",
    "# tokenizer = AutoTokenizer.from_pretrained(args.model_name_or_path, use_fast=False,)\n",
    "model_name_or_path = \"klue/roberta-large\"\n",
    "tokenizer = AutoTokenizer.from_pretrained(model_name_or_path, use_fast=False,)\n",
    "\n",
    "data_path = \"../data\"\n",
    "context_path = \"wikipedia_documents.json\"\n",
    "retriever = SparseRetrieval(\n",
    "    tokenize_fn=tokenizer.tokenize,\n",
    "    data_path=data_path,\n",
    "    context_path=context_path,\n",
    ")\n",
    "\n",
    "query = \"대통령을 포함한 미국의 행정부 견제권을 갖는 국가 기관은?\"\n",
    "retriever.get_sparse_embedding()\n",
    "\n",
    "with timer(\"bulk query by exhaustive search\"):\n",
    "    df = retriever.retrieve(full_ds, topk= 40)\n",
    "    df[\"correct\"] = [original_context in context for original_context,context in zip(df[\"original_context\"],df[\"context\"])]\n",
    "    print(\n",
    "        \"correct retrieval result by exhaustive search\",\n",
    "        f\"{df['correct'].sum()},{len(df)}\",\n",
    "        df[\"correct\"].sum() / len(df),\n",
    "    )\n",
    "\n",
    "with timer(\"single query by exhaustive search\"):\n",
    "    scores, indices = retriever.retrieve(query)"
   ]
  },
  {
   "cell_type": "code",
   "execution_count": 7,
   "metadata": {},
   "outputs": [
    {
     "data": {
      "text/plain": [
       "question            object\n",
       "id                  object\n",
       "context_id          object\n",
       "context             object\n",
       "original_context    object\n",
       "answers             object\n",
       "correct               bool\n",
       "dtype: object"
      ]
     },
     "execution_count": 7,
     "metadata": {},
     "output_type": "execute_result"
    }
   ],
   "source": [
    "df.dtypes"
   ]
  },
  {
   "cell_type": "code",
   "execution_count": 14,
   "metadata": {},
   "outputs": [
    {
     "data": {
      "text/html": [
       "<div>\n",
       "<style scoped>\n",
       "    .dataframe tbody tr th:only-of-type {\n",
       "        vertical-align: middle;\n",
       "    }\n",
       "\n",
       "    .dataframe tbody tr th {\n",
       "        vertical-align: top;\n",
       "    }\n",
       "\n",
       "    .dataframe thead th {\n",
       "        text-align: right;\n",
       "    }\n",
       "</style>\n",
       "<table border=\"1\" class=\"dataframe\">\n",
       "  <thead>\n",
       "    <tr style=\"text-align: right;\">\n",
       "      <th></th>\n",
       "      <th>question</th>\n",
       "      <th>id</th>\n",
       "      <th>context_id</th>\n",
       "      <th>context</th>\n",
       "      <th>original_context</th>\n",
       "      <th>answers</th>\n",
       "      <th>correct</th>\n",
       "    </tr>\n",
       "  </thead>\n",
       "  <tbody>\n",
       "    <tr>\n",
       "      <th>0</th>\n",
       "      <td>대통령을 포함한 미국의 행정부 견제권을 갖는 국가 기관은?</td>\n",
       "      <td>mrc-1-000067</td>\n",
       "      <td>[52322, 1738, 4879, 2269, 22749, 20097, 20771,...</td>\n",
       "      <td>국회에 관해 규정하는 헌법 제4장의 첫 조문이다.\\n\\n본조에서 말하는 \"국권\"이란...</td>\n",
       "      <td>미국 상의원 또는 미국 상원(United States Senate)은 양원제인 미국...</td>\n",
       "      <td>{'answer_start': [235], 'text': ['하원']}</td>\n",
       "      <td>True</td>\n",
       "    </tr>\n",
       "    <tr>\n",
       "      <th>1</th>\n",
       "      <td>현대적 인사조직관리의 시발점이 된 책은?</td>\n",
       "      <td>mrc-0-004397</td>\n",
       "      <td>[47823, 47824, 47817, 47815, 47827, 47809, 478...</td>\n",
       "      <td>'근대적 경영학' 또는 '고전적 경영학'에서 현대적 경영학으로 전환되는 시기는 19...</td>\n",
       "      <td>'근대적 경영학' 또는 '고전적 경영학'에서 현대적 경영학으로 전환되는 시기는 19...</td>\n",
       "      <td>{'answer_start': [212], 'text': ['《경영의 실제》']}</td>\n",
       "      <td>True</td>\n",
       "    </tr>\n",
       "    <tr>\n",
       "      <th>2</th>\n",
       "      <td>강희제가 1717년에 쓴 글은 누구를 위해 쓰여졌는가?</td>\n",
       "      <td>mrc-1-000362</td>\n",
       "      <td>[463, 457, 478, 4631, 472, 470, 473, 461, 4626...</td>\n",
       "      <td>강희제는 소년 시절부터 많은 학문을 배웠다. 그중에서도 유학, 즉 성리학을 좋아하였...</td>\n",
       "      <td>강희제는 강화된 황권으로 거의 황제 중심의 독단적으로 나라를 이끌어 갔기에 자칫 전...</td>\n",
       "      <td>{'answer_start': [510], 'text': ['백성']}</td>\n",
       "      <td>True</td>\n",
       "    </tr>\n",
       "    <tr>\n",
       "      <th>3</th>\n",
       "      <td>11~12세기에 제작된 본존불은 보통 어떤 나라의 특징이 전파되었나요?</td>\n",
       "      <td>mrc-0-001510</td>\n",
       "      <td>[42192, 29916, 33295, 44184, 30339, 14285, 499...</td>\n",
       "      <td>삼존불비상(三尊佛碑像)은 현재 동국대학교에 있는 것으로 충청남도 공주시 정안면에서 ...</td>\n",
       "      <td>불상을 모시기 위해 나무나 돌, 쇠 등을 깎아 일반적인 건축물보다 작은 규모로 만든...</td>\n",
       "      <td>{'answer_start': [625], 'text': ['중국']}</td>\n",
       "      <td>True</td>\n",
       "    </tr>\n",
       "    <tr>\n",
       "      <th>4</th>\n",
       "      <td>명문이 적힌 유물을 구성하는 그릇의 총 개수는?</td>\n",
       "      <td>mrc-0-000823</td>\n",
       "      <td>[162, 54365, 15321, 52779, 43524, 15920, 29591...</td>\n",
       "      <td>장음계의 계이름을 떠올리는 것, 또는 기준음을 으뜸음으로 하는 Diatonic Sc...</td>\n",
       "      <td>동아대학교박물관에서 소장하고 있는 계사명 사리구는 총 4개의 용기로 구성된 조선후기...</td>\n",
       "      <td>{'answer_start': [30], 'text': ['4개']}</td>\n",
       "      <td>True</td>\n",
       "    </tr>\n",
       "  </tbody>\n",
       "</table>\n",
       "</div>"
      ],
      "text/plain": [
       "                                  question            id  \\\n",
       "0         대통령을 포함한 미국의 행정부 견제권을 갖는 국가 기관은?  mrc-1-000067   \n",
       "1                   현대적 인사조직관리의 시발점이 된 책은?  mrc-0-004397   \n",
       "2           강희제가 1717년에 쓴 글은 누구를 위해 쓰여졌는가?  mrc-1-000362   \n",
       "3  11~12세기에 제작된 본존불은 보통 어떤 나라의 특징이 전파되었나요?  mrc-0-001510   \n",
       "4               명문이 적힌 유물을 구성하는 그릇의 총 개수는?  mrc-0-000823   \n",
       "\n",
       "                                          context_id  \\\n",
       "0  [52322, 1738, 4879, 2269, 22749, 20097, 20771,...   \n",
       "1  [47823, 47824, 47817, 47815, 47827, 47809, 478...   \n",
       "2  [463, 457, 478, 4631, 472, 470, 473, 461, 4626...   \n",
       "3  [42192, 29916, 33295, 44184, 30339, 14285, 499...   \n",
       "4  [162, 54365, 15321, 52779, 43524, 15920, 29591...   \n",
       "\n",
       "                                             context  \\\n",
       "0  국회에 관해 규정하는 헌법 제4장의 첫 조문이다.\\n\\n본조에서 말하는 \"국권\"이란...   \n",
       "1  '근대적 경영학' 또는 '고전적 경영학'에서 현대적 경영학으로 전환되는 시기는 19...   \n",
       "2  강희제는 소년 시절부터 많은 학문을 배웠다. 그중에서도 유학, 즉 성리학을 좋아하였...   \n",
       "3  삼존불비상(三尊佛碑像)은 현재 동국대학교에 있는 것으로 충청남도 공주시 정안면에서 ...   \n",
       "4  장음계의 계이름을 떠올리는 것, 또는 기준음을 으뜸음으로 하는 Diatonic Sc...   \n",
       "\n",
       "                                    original_context  \\\n",
       "0  미국 상의원 또는 미국 상원(United States Senate)은 양원제인 미국...   \n",
       "1  '근대적 경영학' 또는 '고전적 경영학'에서 현대적 경영학으로 전환되는 시기는 19...   \n",
       "2  강희제는 강화된 황권으로 거의 황제 중심의 독단적으로 나라를 이끌어 갔기에 자칫 전...   \n",
       "3  불상을 모시기 위해 나무나 돌, 쇠 등을 깎아 일반적인 건축물보다 작은 규모로 만든...   \n",
       "4  동아대학교박물관에서 소장하고 있는 계사명 사리구는 총 4개의 용기로 구성된 조선후기...   \n",
       "\n",
       "                                         answers  correct  \n",
       "0        {'answer_start': [235], 'text': ['하원']}     True  \n",
       "1  {'answer_start': [212], 'text': ['《경영의 실제》']}     True  \n",
       "2        {'answer_start': [510], 'text': ['백성']}     True  \n",
       "3        {'answer_start': [625], 'text': ['중국']}     True  \n",
       "4         {'answer_start': [30], 'text': ['4개']}     True  "
      ]
     },
     "execution_count": 14,
     "metadata": {},
     "output_type": "execute_result"
    }
   ],
   "source": [
    "df.head()"
   ]
  },
  {
   "cell_type": "code",
   "execution_count": 12,
   "metadata": {},
   "outputs": [
    {
     "data": {
      "text/plain": [
       "0       국회에 관해 규정하는 헌법 제4장의 첫 조문이다.\\n\\n본조에서 말하는 \"국권\"이란...\n",
       "1       '근대적 경영학' 또는 '고전적 경영학'에서 현대적 경영학으로 전환되는 시기는 19...\n",
       "2       강희제는 소년 시절부터 많은 학문을 배웠다. 그중에서도 유학, 즉 성리학을 좋아하였...\n",
       "3       삼존불비상(三尊佛碑像)은 현재 동국대학교에 있는 것으로 충청남도 공주시 정안면에서 ...\n",
       "4       장음계의 계이름을 떠올리는 것, 또는 기준음을 으뜸음으로 하는 Diatonic Sc...\n",
       "                              ...                        \n",
       "4187    기원전 284년에 이르러 당시 제나라의 왕이었던 제 민왕은 강력한 국력을 믿고 교만...\n",
       "4188    산대놀이는 한국의 전통 민속놀이이자 무용이다.\\n\\n공의(公儀)로서 연희되어 오던 ...\n",
       "4189    1940년 5월 1일 오전 창씨개명에 비협조적이라는 이유로 조선총독부 경무국에서 소...\n",
       "4190    빌카밤바 지역은 파차쿠티 황제 때 부터 잉카 제국에 속해있던 지역이었다. 스페인 군...\n",
       "4191    마르크스주의 사회학의 핵심 개념은 역사적 유물론, 생산 양식, 자본과 노동의 관계와...\n",
       "Name: context, Length: 4192, dtype: object"
      ]
     },
     "execution_count": 12,
     "metadata": {},
     "output_type": "execute_result"
    }
   ],
   "source": [
    "df[\"context\"]"
   ]
  },
  {
   "cell_type": "code",
   "execution_count": null,
   "metadata": {},
   "outputs": [],
   "source": []
  }
 ],
 "metadata": {
  "kernelspec": {
   "display_name": "mrc",
   "language": "python",
   "name": "mrc"
  },
  "language_info": {
   "codemirror_mode": {
    "name": "ipython",
    "version": 3
   },
   "file_extension": ".py",
   "mimetype": "text/x-python",
   "name": "python",
   "nbconvert_exporter": "python",
   "pygments_lexer": "ipython3",
   "version": "3.8.5"
  },
  "orig_nbformat": 4
 },
 "nbformat": 4,
 "nbformat_minor": 2
}
