{
 "cells": [
  {
   "cell_type": "code",
   "execution_count": 1,
   "id": "3d7ddf5a-a64e-4160-bcb0-5d14a5a3c541",
   "metadata": {},
   "outputs": [],
   "source": [
    "import json\n",
    "import pandas as pd\n",
    "from pandas import json_normalize\n",
    "from datasets import load_from_disk\n",
    "import warnings\n",
    "warnings.filterwarnings('ignore')"
   ]
  },
  {
   "cell_type": "markdown",
   "id": "c47d2c34-b45d-47b2-9304-0c1398d66484",
   "metadata": {},
   "source": [
    "# Reader 데이터 경로"
   ]
  },
  {
   "cell_type": "code",
   "execution_count": 2,
   "id": "6cbb5090-74e5-4dd6-a44c-2ece84b4adf5",
   "metadata": {},
   "outputs": [],
   "source": [
    "dataset = load_from_disk(\"/opt/ml/input/data/train_dataset\")\n",
    "test_dataset=load_from_disk(\"/opt/ml/input/data/test_dataset\")\n",
    "\n",
    "train_dataset = dataset[\"train\"]\n",
    "valid_dataset = dataset[\"validation\"]\n",
    "test_dataset=test_dataset['validation']\n",
    "\n",
    "train_df=pd.DataFrame(train_dataset)\n",
    "valid_df=pd.DataFrame(valid_dataset)\n",
    "test_df=pd.DataFrame(test_dataset)"
   ]
  },
  {
   "cell_type": "markdown",
   "id": "da6ea444-5d24-4c0b-8381-44795b94e97a",
   "metadata": {},
   "source": [
    "# Rtrieval 데이터 경로"
   ]
  },
  {
   "cell_type": "code",
   "execution_count": 3,
   "id": "7b4fc564-e553-469e-95d5-9a9661dd0be6",
   "metadata": {},
   "outputs": [],
   "source": [
    "file_path = \"/opt/ml/input/data/wikipedia_documents.json\"\n",
    "\n",
    "with open(file_path, \"r\") as json_file:\n",
    "    json_data = json.load(json_file)"
   ]
  },
  {
   "cell_type": "markdown",
   "id": "f1165444-cdf8-448e-bf12-0e7efb58eba8",
   "metadata": {},
   "source": [
    "# SOTA , 내 예측 경로"
   ]
  },
  {
   "cell_type": "code",
   "execution_count": 4,
   "id": "1223aab5-0975-43bf-a18c-35c44c74a6cb",
   "metadata": {},
   "outputs": [],
   "source": [
    "### 비교할 json파일의 경로를 넣어주세요!\n",
    "# sota_path = \"./outputs/sota_0509.json\"\n",
    "sota_path = \"./outputs/twice_topk_40_filter1/predictions.json\"\n",
    "my_pre_path=\"./outputs/twice_topk_40_filter1_setting2/predictions.json\"\n",
    "\n",
    "with open(sota_path, \"r\") as json_file:\n",
    "    sota= json.load(json_file)\n",
    "with open(my_pre_path, \"r\") as json_file:\n",
    "    my_pre= json.load(json_file)"
   ]
  },
  {
   "cell_type": "markdown",
   "id": "57d23171-8814-4624-a4ad-146b5db8d086",
   "metadata": {},
   "source": [
    "# test_df 비교"
   ]
  },
  {
   "cell_type": "code",
   "execution_count": 5,
   "id": "265187dc-e983-46b7-9b6e-71581a89ed04",
   "metadata": {},
   "outputs": [],
   "source": [
    "sota_list=list(sota.values())\n",
    "my_pre_list=list(my_pre.values())\n",
    "\n",
    "diff=[]\n",
    "for js in sota_list:\n",
    "    if js not in my_pre_list:\n",
    "        diff.append(sota_list.index(js))\n",
    "        \n",
    "sota_diff_list=[]\n",
    "my_pre_diff_list=[]\n",
    "\n",
    "for df in diff:\n",
    "    sota_diff_list.append(sota_list[df])\n",
    "    my_pre_diff_list.append(my_pre_list[df])\n",
    "\n",
    "sota_diff=test_df.iloc[diff]\n",
    "sota_diff[\"SOTA_ans\"]=sota_diff_list\n",
    "sota_diff[\"my_ans\"]=my_pre_diff_list\n",
    "sota_diff[\"SOTA_ans_len\"]=list(map(len,sota_diff_list))\n",
    "sota_diff[\"my_ans_len\"]=list(map(len,my_pre_diff_list))\n",
    "\n",
    "sota_diff=sota_diff.drop(['id'],axis=1)"
   ]
  },
  {
   "cell_type": "code",
   "execution_count": 6,
   "id": "9a7ffaf8-0a62-451c-8a83-fb64c2f63a31",
   "metadata": {},
   "outputs": [
    {
     "name": "stdout",
     "output_type": "stream",
     "text": [
      "#############################################################\n",
      "SOTA와 비교하여 다른 답변의 개수는 1개 입니다.\n",
      "#############################################################\n"
     ]
    },
    {
     "data": {
      "text/html": [
       "<div>\n",
       "<style scoped>\n",
       "    .dataframe tbody tr th:only-of-type {\n",
       "        vertical-align: middle;\n",
       "    }\n",
       "\n",
       "    .dataframe tbody tr th {\n",
       "        vertical-align: top;\n",
       "    }\n",
       "\n",
       "    .dataframe thead th {\n",
       "        text-align: right;\n",
       "    }\n",
       "</style>\n",
       "<table border=\"1\" class=\"dataframe\">\n",
       "  <thead>\n",
       "    <tr style=\"text-align: right;\">\n",
       "      <th></th>\n",
       "      <th>question</th>\n",
       "      <th>SOTA_ans</th>\n",
       "      <th>my_ans</th>\n",
       "      <th>SOTA_ans_len</th>\n",
       "      <th>my_ans_len</th>\n",
       "    </tr>\n",
       "  </thead>\n",
       "  <tbody>\n",
       "    <tr>\n",
       "      <th>311</th>\n",
       "      <td>navigation'이 올라온 사이트는?</td>\n",
       "      <td>보배드림 사이트</td>\n",
       "      <td>본인 사운드클라우드 계정</td>\n",
       "      <td>8</td>\n",
       "      <td>13</td>\n",
       "    </tr>\n",
       "  </tbody>\n",
       "</table>\n",
       "</div>"
      ],
      "text/plain": [
       "                   question  SOTA_ans         my_ans  SOTA_ans_len  my_ans_len\n",
       "311  navigation'이 올라온 사이트는?  보배드림 사이트  본인 사운드클라우드 계정             8          13"
      ]
     },
     "execution_count": 6,
     "metadata": {},
     "output_type": "execute_result"
    }
   ],
   "source": [
    "print(\"#############################################################\")\n",
    "print(f\"SOTA와 비교하여 다른 답변의 개수는 {len(sota_diff)}개 입니다.\")\n",
    "print(\"#############################################################\")\n",
    "sota_diff.sort_values(by=[\"SOTA_ans_len\",\"my_ans_len\"],ascending=False).head(50)"
   ]
  },
  {
   "cell_type": "markdown",
   "id": "a876b4ef-411b-4684-a411-4bd3292fc3d7",
   "metadata": {},
   "source": [
    "# 전체"
   ]
  },
  {
   "cell_type": "code",
   "execution_count": 15,
   "id": "25876ce4-0891-4d22-9722-9a4c99580357",
   "metadata": {},
   "outputs": [
    {
     "data": {
      "text/html": [
       "<div>\n",
       "<style scoped>\n",
       "    .dataframe tbody tr th:only-of-type {\n",
       "        vertical-align: middle;\n",
       "    }\n",
       "\n",
       "    .dataframe tbody tr th {\n",
       "        vertical-align: top;\n",
       "    }\n",
       "\n",
       "    .dataframe thead th {\n",
       "        text-align: right;\n",
       "    }\n",
       "</style>\n",
       "<table border=\"1\" class=\"dataframe\">\n",
       "  <thead>\n",
       "    <tr style=\"text-align: right;\">\n",
       "      <th></th>\n",
       "      <th>question</th>\n",
       "      <th>id</th>\n",
       "      <th>SOTA_ans</th>\n",
       "      <th>my_ans</th>\n",
       "    </tr>\n",
       "  </thead>\n",
       "  <tbody>\n",
       "    <tr>\n",
       "      <th>197</th>\n",
       "      <td>매우 센 중력에 의해 빛이 탈출하지 못하는 천체는?</td>\n",
       "      <td>mrc-0-004709</td>\n",
       "      <td>블랙홀</td>\n",
       "      <td>블랙홀</td>\n",
       "    </tr>\n",
       "    <tr>\n",
       "      <th>236</th>\n",
       "      <td>히키코모리가 유독 많아졌던 세대는?</td>\n",
       "      <td>mrc-0-002518</td>\n",
       "      <td>빙하기 세대</td>\n",
       "      <td>빙하기 세대</td>\n",
       "    </tr>\n",
       "    <tr>\n",
       "      <th>379</th>\n",
       "      <td>프랑크 왕족들의 무덤이 있는 곳은?</td>\n",
       "      <td>mrc-0-000668</td>\n",
       "      <td>‘논수골’</td>\n",
       "      <td>‘논수골’</td>\n",
       "    </tr>\n",
       "    <tr>\n",
       "      <th>497</th>\n",
       "      <td>조선인민공화국에서 최고로 높은 직위에 오른 자는?</td>\n",
       "      <td>mrc-0-000394</td>\n",
       "      <td>알리 하메네이</td>\n",
       "      <td>장성택</td>\n",
       "    </tr>\n",
       "    <tr>\n",
       "      <th>163</th>\n",
       "      <td>멕시코 연방 정부는 메탈클래드에게 얼마를 보상하라고 하였나?</td>\n",
       "      <td>mrc-0-000065</td>\n",
       "      <td>1,668만 5천 달러</td>\n",
       "      <td>1,668만 5천 달러</td>\n",
       "    </tr>\n",
       "    <tr>\n",
       "      <th>31</th>\n",
       "      <td>이타미 역이 종착역이었을 때 존재했지만 지진 이후 없어진 것은?</td>\n",
       "      <td>mrc-0-004646</td>\n",
       "      <td>건늠선</td>\n",
       "      <td>건늠선</td>\n",
       "    </tr>\n",
       "    <tr>\n",
       "      <th>2</th>\n",
       "      <td>돌푸스에게 불특정 기간동안 하원이 잠시 쉬는 것을 건의 받았던 인물은?</td>\n",
       "      <td>mrc-0-002191</td>\n",
       "      <td>대통령인 빌헬름 미클라스</td>\n",
       "      <td>대통령인 빌헬름 미클라스</td>\n",
       "    </tr>\n",
       "    <tr>\n",
       "      <th>183</th>\n",
       "      <td>린후이인이 원래 진학하고 싶어했던 과는?</td>\n",
       "      <td>mrc-0-001384</td>\n",
       "      <td>건축학과</td>\n",
       "      <td>건축학과</td>\n",
       "    </tr>\n",
       "    <tr>\n",
       "      <th>21</th>\n",
       "      <td>초등학생 일기검사의 인권침해 여부를 판단하는 주체는?</td>\n",
       "      <td>mrc-0-003683</td>\n",
       "      <td>국가인권위원회</td>\n",
       "      <td>국가인권위원회</td>\n",
       "    </tr>\n",
       "    <tr>\n",
       "      <th>470</th>\n",
       "      <td>이론물리학에 비해 수학적인 부분을 더 강조하는 학문은?</td>\n",
       "      <td>mrc-1-001729</td>\n",
       "      <td>수리물리학</td>\n",
       "      <td>수리물리학</td>\n",
       "    </tr>\n",
       "  </tbody>\n",
       "</table>\n",
       "</div>"
      ],
      "text/plain": [
       "                                    question            id       SOTA_ans  \\\n",
       "197             매우 센 중력에 의해 빛이 탈출하지 못하는 천체는?  mrc-0-004709            블랙홀   \n",
       "236                      히키코모리가 유독 많아졌던 세대는?  mrc-0-002518         빙하기 세대   \n",
       "379                      프랑크 왕족들의 무덤이 있는 곳은?  mrc-0-000668          ‘논수골’   \n",
       "497              조선인민공화국에서 최고로 높은 직위에 오른 자는?  mrc-0-000394        알리 하메네이   \n",
       "163        멕시코 연방 정부는 메탈클래드에게 얼마를 보상하라고 하였나?  mrc-0-000065   1,668만 5천 달러   \n",
       "31       이타미 역이 종착역이었을 때 존재했지만 지진 이후 없어진 것은?  mrc-0-004646            건늠선   \n",
       "2    돌푸스에게 불특정 기간동안 하원이 잠시 쉬는 것을 건의 받았던 인물은?  mrc-0-002191  대통령인 빌헬름 미클라스   \n",
       "183                   린후이인이 원래 진학하고 싶어했던 과는?  mrc-0-001384           건축학과   \n",
       "21             초등학생 일기검사의 인권침해 여부를 판단하는 주체는?  mrc-0-003683        국가인권위원회   \n",
       "470           이론물리학에 비해 수학적인 부분을 더 강조하는 학문은?  mrc-1-001729          수리물리학   \n",
       "\n",
       "            my_ans  \n",
       "197            블랙홀  \n",
       "236         빙하기 세대  \n",
       "379          ‘논수골’  \n",
       "497            장성택  \n",
       "163   1,668만 5천 달러  \n",
       "31             건늠선  \n",
       "2    대통령인 빌헬름 미클라스  \n",
       "183           건축학과  \n",
       "21         국가인권위원회  \n",
       "470          수리물리학  "
      ]
     },
     "execution_count": 15,
     "metadata": {},
     "output_type": "execute_result"
    }
   ],
   "source": [
    "test_df[\"SOTA_ans\"]=sota_list\n",
    "test_df[\"my_ans\"]=my_pre_list\n",
    "test_df.sample(10)"
   ]
  },
  {
   "cell_type": "code",
   "execution_count": null,
   "id": "897bb271-cc65-41cd-bd23-6e46fb07bef1",
   "metadata": {},
   "outputs": [],
   "source": []
  }
 ],
 "metadata": {
  "kernelspec": {
   "display_name": "mrc",
   "language": "python",
   "name": "mrc"
  },
  "language_info": {
   "codemirror_mode": {
    "name": "ipython",
    "version": 3
   },
   "file_extension": ".py",
   "mimetype": "text/x-python",
   "name": "python",
   "nbconvert_exporter": "python",
   "pygments_lexer": "ipython3",
   "version": "3.8.5"
  }
 },
 "nbformat": 4,
 "nbformat_minor": 5
}
